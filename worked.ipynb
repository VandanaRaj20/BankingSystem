{
  "cells": [
    {
      "cell_type": "markdown",
      "metadata": {
        "id": "view-in-github",
        "colab_type": "text"
      },
      "source": [
        "<a href=\"https://colab.research.google.com/github/VandanaRaj20/BankingSystem/blob/main/worked.ipynb\" target=\"_parent\"><img src=\"https://colab.research.google.com/assets/colab-badge.svg\" alt=\"Open In Colab\"/></a>"
      ]
    },
    {
      "cell_type": "markdown",
      "id": "93e9e503",
      "metadata": {
        "id": "93e9e503"
      },
      "source": [
        "In the below code, we first load the test data into a numpy array using the load_test_data() function. We then perform Principle Component Analysis(PCA) to reduce the dimensionality of the test data and use KMeans clustering to group the test cases into 10 clusters.\n",
        "\n",
        "We then select the most representative test cases from each cluster using the pairwise_distances_argmin_min() function and run the reduced test cases using the run_reduced_test_cases() function.\n",
        "\n",
        "By using machine learning to select the most representative test cases, we can effectively reduce the number of tests while still maintaining adequate test coverage. This technique can be especially useful when dealing with a large number of test cases, as it allows for more efficient testing without sacrificing accuracy."
      ]
    },
    {
      "cell_type": "code",
      "execution_count": null,
      "id": "e9ca8e48",
      "metadata": {
        "colab": {
          "base_uri": "https://localhost:8080/"
        },
        "id": "e9ca8e48",
        "outputId": "4b8b0d85-8ac7-4e0a-fbb9-ce37fd7cb580"
      },
      "outputs": [
        {
          "output_type": "stream",
          "name": "stdout",
          "text": [
            "[(12, 41), (40, 26), (-40, 45), (-14, 11), (-34, 24), (46, -45), (10, 35), (49, -48), (49, -9), (23, 2), (32, -28), (-13, -1), (42, 42), (1, 15), (32, -10), (-35, -20), (31, 10), (-28, 5), (50, 23), (-42, 17), (48, -14), (-9, 47), (-32, -50), (1, -26), (-5, 47), (-18, 40), (-4, 49), (-20, -16), (-29, -36), (-31, -37), (-44, 34), (-24, 27), (33, 23), (-21, 44), (2, -31), (45, 19), (17, -25), (-38, 17), (26, 17), (-6, -46), (-22, -2), (17, 19), (-5, 31), (-31, 12), (-40, -4), (11, 28), (-38, -14), (36, 18), (0, 3), (-21, -15), (-9, 11), (2, -34), (-48, 24), (25, 34), (12, -13), (-18, 40), (-22, -16), (-48, 48), (0, 2), (-49, 20), (-8, -34), (21, 44), (-49, 34), (29, -11), (-24, -46), (0, -18), (-43, -25), (50, 26), (-32, 8), (-37, -4), (36, -13), (-15, -48), (-4, -39), (-50, 15), (48, 18), (-27, 34), (9, -31), (-35, -12), (-45, -45), (-31, -6), (-46, -4), (-37, -28), (18, -43), (-29, 49), (0, -10), (-8, 7), (24, -7), (-18, -27), (-50, -13), (8, 37), (-23, -16), (20, -15), (-44, 43), (-48, 42), (-16, 8), (-48, 33), (28, -30), (-20, 40), (14, -3), (32, 28)]\n"
          ]
        }
      ],
      "source": [
        "import random\n",
        "\n",
        "def generate_test_cases(num_cases):\n",
        "    test_cases = []\n",
        "    for i in range(num_cases):\n",
        "        x = random.randint(-50, 50)\n",
        "        y = random.randint(-50, 50)\n",
        "        test_cases.append((x, y))\n",
        "    return test_cases\n",
        "\n",
        "test_cases = generate_test_cases(100)\n",
        "print(test_cases)"
      ]
    },
    {
      "cell_type": "code",
      "execution_count": null,
      "id": "5282c566",
      "metadata": {
        "id": "5282c566"
      },
      "outputs": [],
      "source": [
        "#def function_name(a,b):\n",
        "    #return a+b"
      ]
    },
    {
      "cell_type": "code",
      "execution_count": null,
      "id": "fd170873",
      "metadata": {
        "id": "fd170873"
      },
      "outputs": [],
      "source": [
        "import numpy as np\n",
        "\n",
        "t_c = np.array(test_cases)"
      ]
    },
    {
      "cell_type": "code",
      "execution_count": null,
      "id": "01dda2d7",
      "metadata": {
        "id": "01dda2d7"
      },
      "outputs": [],
      "source": [
        "import numpy as np\n",
        "from sklearn.cluster import KMeans\n",
        "from sklearn.decomposition import PCA\n",
        "from sklearn.metrics import pairwise_distances_argmin_min"
      ]
    },
    {
      "cell_type": "code",
      "execution_count": null,
      "id": "5fe30fe0",
      "metadata": {
        "id": "5fe30fe0"
      },
      "outputs": [],
      "source": [
        "np.save('test_data',t_c)"
      ]
    },
    {
      "cell_type": "code",
      "execution_count": null,
      "id": "99080a77",
      "metadata": {
        "id": "99080a77"
      },
      "outputs": [],
      "source": [
        "def load_test_data():\n",
        "    # In this step, Load the test data into a numpy array\n",
        "    test_data = np.load('test_data.npy')\n",
        "    return test_data"
      ]
    },
    {
      "cell_type": "code",
      "execution_count": null,
      "id": "89e7f71f",
      "metadata": {
        "id": "89e7f71f"
      },
      "outputs": [],
      "source": [
        "def reduce_test_cases(test_data):\n",
        "    # Secondly, Perform PCA to reduce the dimensionality of the test data\n",
        "    pca = PCA(n_components=1)\n",
        "    test_data_pca = pca.fit_transform(test_data)\n",
        "    \n",
        "    # After reducing the dimensionality of the test data, we Use KMeans clustering to group the test cases\n",
        "    kmeans = KMeans(n_clusters=10)\n",
        "    kmeans.fit(test_data_pca)\n",
        "    \n",
        "    # Here, we select the most representative/eligible test cases from each cluster\n",
        "    representative_indices, _ = pairwise_distances_argmin_min(kmeans.cluster_centers_, test_data_pca)\n",
        "    reduced_test_cases = test_data[representative_indices]\n",
        "    \n",
        "    return reduced_test_cases"
      ]
    },
    {
      "cell_type": "code",
      "execution_count": null,
      "id": "432e1e53",
      "metadata": {
        "id": "432e1e53"
      },
      "outputs": [],
      "source": [
        "def run_reduced_test_cases(reduced_test_cases):\n",
        "    # Run the reduced test cases and report any errors or failures\n",
        "    for test_case in reduced_test_cases:\n",
        "        input = test_case[:-1]\n",
        "        expected_output = test_case[-1]\n",
        "        assert function_name(input) == expected_output"
      ]
    },
    {
      "cell_type": "code",
      "execution_count": null,
      "id": "be0af56a",
      "metadata": {
        "colab": {
          "base_uri": "https://localhost:8080/"
        },
        "id": "be0af56a",
        "outputId": "5021c063-9eac-4fef-ad9a-06618202c269"
      },
      "outputs": [
        {
          "output_type": "stream",
          "name": "stderr",
          "text": [
            "/usr/local/lib/python3.9/dist-packages/sklearn/cluster/_kmeans.py:870: FutureWarning: The default value of `n_init` will change from 10 to 'auto' in 1.4. Set the value of `n_init` explicitly to suppress the warning\n",
            "  warnings.warn(\n"
          ]
        }
      ],
      "source": [
        "if __name__ == '__main__':\n",
        "    # Loading of the test data\n",
        "    test_data = load_test_data()\n",
        "    \n",
        "    # Reduce the test cases using machine learning\n",
        "    reduced_test_cases = reduce_test_cases(test_data)\n",
        "    \n",
        "    # Run the reduced test cases\n",
        "    #run_reduced_test_cases(reduced_test_cases)"
      ]
    },
    {
      "cell_type": "code",
      "execution_count": null,
      "id": "09aa5ee7",
      "metadata": {
        "colab": {
          "base_uri": "https://localhost:8080/"
        },
        "id": "09aa5ee7",
        "outputId": "169bc317-6dbc-4870-ff87-317d05f56701"
      },
      "outputs": [
        {
          "output_type": "execute_result",
          "data": {
            "text/plain": [
              "array([[  1, -26],\n",
              "       [-31,  -6],\n",
              "       [ 49,  -9],\n",
              "       [-18, -27],\n",
              "       [-40,  45],\n",
              "       [ 48,  18],\n",
              "       [ 31,  10],\n",
              "       [-20,  40],\n",
              "       [ 46, -45],\n",
              "       [-23, -16]])"
            ]
          },
          "metadata": {},
          "execution_count": 12
        }
      ],
      "source": [
        "reduced_test_cases"
      ]
    },
    {
      "cell_type": "code",
      "execution_count": null,
      "id": "fd5ea833",
      "metadata": {
        "id": "fd5ea833"
      },
      "outputs": [],
      "source": []
    }
  ],
  "metadata": {
    "kernelspec": {
      "display_name": "Python 3",
      "language": "python",
      "name": "python3"
    },
    "language_info": {
      "codemirror_mode": {
        "name": "ipython",
        "version": 3
      },
      "file_extension": ".py",
      "mimetype": "text/x-python",
      "name": "python",
      "nbconvert_exporter": "python",
      "pygments_lexer": "ipython3",
      "version": "3.8.8"
    },
    "colab": {
      "provenance": [],
      "include_colab_link": true
    }
  },
  "nbformat": 4,
  "nbformat_minor": 5
}